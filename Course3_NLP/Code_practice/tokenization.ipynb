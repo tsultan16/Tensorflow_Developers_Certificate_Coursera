{
 "cells": [
  {
   "cell_type": "code",
   "execution_count": 15,
   "metadata": {},
   "outputs": [],
   "source": [
    "from tensorflow.keras.preprocessing.text import Tokenizer\n",
    "from tensorflow.keras.preprocessing.sequence import pad_sequences"
   ]
  },
  {
   "cell_type": "markdown",
   "metadata": {},
   "source": [
    "In this example, we will user tensorflow's Tokenizer to generate a vocabulary from a given set of sentences"
   ]
  },
  {
   "cell_type": "code",
   "execution_count": 16,
   "metadata": {},
   "outputs": [
    {
     "name": "stdout",
     "output_type": "stream",
     "text": [
      "{'i': 1, 'love': 2, 'my': 3, 'cat': 4, 'dog': 5}\n"
     ]
    }
   ],
   "source": [
    "# input list of sentences\n",
    "sentences = [\"I love my cat.\", \"i, love my dog!!\"]\n",
    "\n",
    "\n",
    "# instantiate tokenizer object (num_words parameter specifies num_words most frequent words to keep in vocabulary when generating sequences of word indices from sentences)\n",
    "tokenizer = Tokenizer(num_words=100)\n",
    "\n",
    "# generate word indices (the tokenizer removes all punctuation symbols and lowercases all characters)\n",
    "tokenizer.fit_on_texts(sentences)\n",
    "word_index = tokenizer.word_index\n",
    "\n",
    "print(word_index)"
   ]
  },
  {
   "cell_type": "markdown",
   "metadata": {},
   "source": [
    "Note that the word indices start from 1. Once we've generated the vocablary, we can use the tokenizer to transform sentences into a sequence of indices as follows"
   ]
  },
  {
   "cell_type": "code",
   "execution_count": 17,
   "metadata": {},
   "outputs": [
    {
     "name": "stdout",
     "output_type": "stream",
     "text": [
      "[[1, 2, 3, 4], [1, 2, 3, 5]]\n"
     ]
    }
   ],
   "source": [
    "sequences = tokenizer.texts_to_sequences(sentences)\n",
    "print(sequences)"
   ]
  },
  {
   "cell_type": "markdown",
   "metadata": {},
   "source": [
    "We can also generate sequences on unseen sentences, however out of vocabulary (OOV) words will get ignored"
   ]
  },
  {
   "cell_type": "code",
   "execution_count": 18,
   "metadata": {},
   "outputs": [
    {
     "name": "stdout",
     "output_type": "stream",
     "text": [
      "[[3, 3, 5]]\n"
     ]
    }
   ],
   "source": [
    "print(tokenizer.texts_to_sequences([\"My ostrich loves my dog\"])) # the words 'ostrich' and 'loves' are OOV"
   ]
  },
  {
   "cell_type": "markdown",
   "metadata": {},
   "source": [
    "To fix this problem, initialize the Tokenizer with a special OOV token"
   ]
  },
  {
   "cell_type": "code",
   "execution_count": 26,
   "metadata": {},
   "outputs": [
    {
     "name": "stdout",
     "output_type": "stream",
     "text": [
      "{'<OOV>': 1, 'my': 2, 'love': 3, 'dog': 4, 'i': 5, 'cat': 6, 'you': 7, 'ate': 8, 'homework': 9, 'dammit': 10}\n",
      "[[2, 1, 1, 2, 4]]\n"
     ]
    }
   ],
   "source": [
    "# input list of sentences\n",
    "sentences = [\"I love my cat.\", \"i, love my dog!!\", \"you love my dog.\", \"My dog ate my homework, dammit!\"]\n",
    "\n",
    "# instantiate tokenizer object (specify OOV token)\n",
    "tokenizer = Tokenizer(num_words=100, oov_token=\"<OOV>\")\n",
    "\n",
    "# generate word indices (the tokenizer removes all punctuation symbols and lowercases all characters)\n",
    "tokenizer.fit_on_texts(sentences)\n",
    "word_index = tokenizer.word_index\n",
    "\n",
    "print(word_index)\n",
    "sequences = tokenizer.texts_to_sequences(sentences)\n",
    "print(tokenizer.texts_to_sequences([\"My ostrich loves my dog\"])) # the words 'ostrich' and 'loves' are OOV"
   ]
  },
  {
   "cell_type": "markdown",
   "metadata": {},
   "source": [
    "Sequences can also be padded to uniform length"
   ]
  },
  {
   "cell_type": "code",
   "execution_count": 30,
   "metadata": {},
   "outputs": [
    {
     "name": "stdout",
     "output_type": "stream",
     "text": [
      "[[5, 3, 2, 6], [5, 3, 2, 4], [7, 3, 2, 4], [2, 4, 8, 2, 9, 10]]\n",
      "[[5 3 2 6 0]\n",
      " [5 3 2 4 0]\n",
      " [7 3 2 4 0]\n",
      " [2 4 8 2 9]]\n"
     ]
    }
   ],
   "source": [
    "# maxlen parameter default value is the length of longest sequence (for maxlen < length of longest sequences, truncation occurs) and default padding and truncating are 'pre'\n",
    "padded_sequences = pad_sequences(sequences, maxlen=5, padding='post', truncating='post')\n",
    "print(sequences)\n",
    "print(padded_sequences)"
   ]
  },
  {
   "cell_type": "markdown",
   "metadata": {},
   "source": [
    "Experimenting with the `Sarcasm` dataset. Each item in this data set is a dictionary containing a news headline sentence, a URL to the news article and a binary label denoting whether the news headline is sarcastic  "
   ]
  },
  {
   "cell_type": "code",
   "execution_count": 35,
   "metadata": {},
   "outputs": [
    {
     "data": {
      "text/plain": [
       "'sarcasm.json'"
      ]
     },
     "execution_count": 35,
     "metadata": {},
     "output_type": "execute_result"
    }
   ],
   "source": [
    "import wget\n",
    "\n",
    "# download data set\n",
    "link = \"https://storage.googleapis.com/tensorflow-1-public/course3/sarcasm.json\"\n",
    "wget.download(link)"
   ]
  },
  {
   "cell_type": "code",
   "execution_count": 37,
   "metadata": {},
   "outputs": [],
   "source": [
    "import json\n",
    "\n",
    "# load the file contents\n",
    "with open(\"./sarcasm.json\", 'r') as f:\n",
    "    datastore = json.load(f)"
   ]
  },
  {
   "cell_type": "code",
   "execution_count": 48,
   "metadata": {},
   "outputs": [
    {
     "name": "stdout",
     "output_type": "stream",
     "text": [
      "Number of news articles: 26709. Some examples:\n",
      "{'article_link': 'https://www.huffingtonpost.com/entry/versace-black-code_us_5861fbefe4b0de3a08f600d5', 'headline': \"former versace store clerk sues over secret 'black code' for minority shoppers\", 'is_sarcastic': 0}\n",
      "{'article_link': 'https://www.huffingtonpost.com/entry/advancing-the-worlds-women_b_6810038.html', 'headline': \"advancing the world's women\", 'is_sarcastic': 0}\n",
      "{'article_link': 'https://www.huffingtonpost.com/entry/airline-passengers-tackle-man-who-rushes-cockpit-in-bomb-threat_us_59302e57e4b07572bdbf9460', 'headline': 'airline passengers tackle man who rushes cockpit in bomb threat', 'is_sarcastic': 0}\n",
      "{'article_link': 'https://entertainment.theonion.com/nuclear-bomb-detonates-during-rehearsal-for-spider-man-1819572009', 'headline': \"nuclear bomb detonates during rehearsal for 'spider-man' musical\", 'is_sarcastic': 1}\n",
      "{'article_link': 'https://local.theonion.com/courtroom-sketch-artist-has-clear-manga-influences-1820298494', 'headline': 'courtroom sketch artist has clear manga influences', 'is_sarcastic': 1}\n"
     ]
    }
   ],
   "source": [
    "print(f\"Number of news articles: {len(datastore)}. Some examples:\")\n",
    "for i in range(0,25,5):\n",
    "    print(datastore[i])"
   ]
  },
  {
   "cell_type": "code",
   "execution_count": 49,
   "metadata": {},
   "outputs": [],
   "source": [
    "# get the URLS, headline sentences and labels into separate lists\n",
    "urls = []\n",
    "sentences = []\n",
    "labels = []\n",
    "for item in datastore:\n",
    "    urls.append(item['article_link'])\n",
    "    sentences.append(item['headline'])\n",
    "    labels.append(item['is_sarcastic'])"
   ]
  },
  {
   "cell_type": "markdown",
   "metadata": {},
   "source": [
    "Now lets preprocess these headle sentences using the Tokenizer. First we generate the ictionary of word indices, then create padded seuences of word indices for the sentences"
   ]
  },
  {
   "cell_type": "code",
   "execution_count": 54,
   "metadata": {},
   "outputs": [
    {
     "name": "stdout",
     "output_type": "stream",
     "text": [
      "Number of words in vocabulary: 29657\n",
      "\n",
      "\n"
     ]
    }
   ],
   "source": [
    "tokenizer = Tokenizer(oov_token=\"<OOV>\")\n",
    "\n",
    "# generate vocab\n",
    "tokenizer.fit_on_texts(sentences)\n",
    "word_index = tokenizer.word_index\n",
    "print(f\"Number of words in vocabulary: {len(word_index)}\\n\\n\")\n"
   ]
  },
  {
   "cell_type": "code",
   "execution_count": 57,
   "metadata": {},
   "outputs": [
    {
     "name": "stdout",
     "output_type": "stream",
     "text": [
      "Length of each opoadded sequence: 40\n",
      "First ten padded sequences: \n",
      "[[  308 15115   679  3337  2298    48   382  2576 15116     6  2577  8434\n",
      "      0     0     0     0     0     0     0     0     0     0     0     0\n",
      "      0     0     0     0     0     0     0     0     0     0     0     0\n",
      "      0     0     0     0]\n",
      " [    4  8435  3338  2746    22     2   166  8436   416  3112     6   258\n",
      "      9  1002     0     0     0     0     0     0     0     0     0     0\n",
      "      0     0     0     0     0     0     0     0     0     0     0     0\n",
      "      0     0     0     0]\n",
      " [  145   838     2   907  1749  2093   582  4719   221   143    39    46\n",
      "      2 10736     0     0     0     0     0     0     0     0     0     0\n",
      "      0     0     0     0     0     0     0     0     0     0     0     0\n",
      "      0     0     0     0]\n",
      " [ 1485    36   224   400     2  1832    29   319    22    10  2924  1393\n",
      "   6969   968     0     0     0     0     0     0     0     0     0     0\n",
      "      0     0     0     0     0     0     0     0     0     0     0     0\n",
      "      0     0     0     0]\n",
      " [  767   719  4720   908 10737   623   594     5     4    95  1309    92\n",
      "      0     0     0     0     0     0     0     0     0     0     0     0\n",
      "      0     0     0     0     0     0     0     0     0     0     0     0\n",
      "      0     0     0     0]\n",
      " [10738     4   365    73     0     0     0     0     0     0     0     0\n",
      "      0     0     0     0     0     0     0     0     0     0     0     0\n",
      "      0     0     0     0     0     0     0     0     0     0     0     0\n",
      "      0     0     0     0]\n",
      " [    4  6970   351     6   461  4274  2195  1486     0     0     0     0\n",
      "      0     0     0     0     0     0     0     0     0     0     0     0\n",
      "      0     0     0     0     0     0     0     0     0     0     0     0\n",
      "      0     0     0     0]\n",
      " [   19   479    39  1168    31   155     2    99    83    18   158     6\n",
      "     32   352     0     0     0     0     0     0     0     0     0     0\n",
      "      0     0     0     0     0     0     0     0     0     0     0     0\n",
      "      0     0     0     0]\n",
      " [  249  3623  6971   555  5274  1995   141     0     0     0     0     0\n",
      "      0     0     0     0     0     0     0     0     0     0     0     0\n",
      "      0     0     0     0     0     0     0     0     0     0     0     0\n",
      "      0     0     0     0]\n",
      " [ 2094   326   347   401    60 15117     6     4  3896     0     0     0\n",
      "      0     0     0     0     0     0     0     0     0     0     0     0\n",
      "      0     0     0     0     0     0     0     0     0     0     0     0\n",
      "      0     0     0     0]]\n"
     ]
    }
   ],
   "source": [
    "# generate padded sequences\n",
    "sequences = tokenizer.texts_to_sequences(sentences)\n",
    "padded = pad_sequences(sequences,padding='post')\n",
    "\n",
    "print(f\"Length of each opoadded sequence: {len(padded[0])}\")\n",
    "print(\"First ten padded sequences: \")\n",
    "print(padded[:10])"
   ]
  },
  {
   "cell_type": "code",
   "execution_count": null,
   "metadata": {},
   "outputs": [],
   "source": []
  }
 ],
 "metadata": {
  "kernelspec": {
   "display_name": "tensorflowgpu",
   "language": "python",
   "name": "python3"
  },
  "language_info": {
   "codemirror_mode": {
    "name": "ipython",
    "version": 3
   },
   "file_extension": ".py",
   "mimetype": "text/x-python",
   "name": "python",
   "nbconvert_exporter": "python",
   "pygments_lexer": "ipython3",
   "version": "3.10.12"
  },
  "orig_nbformat": 4
 },
 "nbformat": 4,
 "nbformat_minor": 2
}
