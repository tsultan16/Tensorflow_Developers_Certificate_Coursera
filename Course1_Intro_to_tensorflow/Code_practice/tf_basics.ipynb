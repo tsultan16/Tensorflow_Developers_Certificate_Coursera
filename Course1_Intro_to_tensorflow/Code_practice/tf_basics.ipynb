{
 "cells": [
  {
   "attachments": {},
   "cell_type": "markdown",
   "metadata": {},
   "source": [
    "**Tensorflow Basics**"
   ]
  },
  {
   "cell_type": "code",
   "execution_count": 1,
   "metadata": {},
   "outputs": [
    {
     "name": "stderr",
     "output_type": "stream",
     "text": [
      "2023-07-08 13:34:53.533890: I tensorflow/core/util/port.cc:110] oneDNN custom operations are on. You may see slightly different numerical results due to floating-point round-off errors from different computation orders. To turn them off, set the environment variable `TF_ENABLE_ONEDNN_OPTS=0`.\n",
      "2023-07-08 13:34:53.562736: I tensorflow/core/platform/cpu_feature_guard.cc:182] This TensorFlow binary is optimized to use available CPU instructions in performance-critical operations.\n",
      "To enable the following instructions: AVX2 AVX_VNNI FMA, in other operations, rebuild TensorFlow with the appropriate compiler flags.\n",
      "2023-07-08 13:34:54.079839: W tensorflow/compiler/tf2tensorrt/utils/py_utils.cc:38] TF-TRT Warning: Could not find TensorRT\n"
     ]
    },
    {
     "name": "stdout",
     "output_type": "stream",
     "text": [
      "2.12.1\n"
     ]
    }
   ],
   "source": [
    "import tensorflow as tf\n",
    "from tensorflow import keras\n",
    "import numpy as np\n",
    "\n",
    "print(tf.__version__)"
   ]
  },
  {
   "attachments": {},
   "cell_type": "markdown",
   "metadata": {},
   "source": [
    "***Ex1:*** Build a neural network model with 1 layer with just 1 neuron"
   ]
  },
  {
   "cell_type": "code",
   "execution_count": 2,
   "metadata": {},
   "outputs": [],
   "source": [
    "# create a simple Sequential model with just one dense layer\n",
    "model = keras.Sequential([keras.layers.Dense(units=1, input_shape=[1])])\n",
    "\n",
    "# compile the model with stochastic gradient descent optimizer and mean squared loss function\n",
    "model.compile(optimizer='sgd',loss='mean_squared_error')"
   ]
  },
  {
   "cell_type": "code",
   "execution_count": 3,
   "metadata": {},
   "outputs": [
    {
     "name": "stdout",
     "output_type": "stream",
     "text": [
      "Epoch 1/100\n",
      "1/1 [==============================] - 2s 2s/step - loss: 25.6627\n",
      "Epoch 2/100\n",
      "1/1 [==============================] - 0s 8ms/step - loss: 18.2826\n",
      "Epoch 3/100\n",
      "1/1 [==============================] - 0s 8ms/step - loss: 13.0321\n",
      "Epoch 4/100\n",
      "1/1 [==============================] - 0s 8ms/step - loss: 9.2965\n",
      "Epoch 5/100\n",
      "1/1 [==============================] - 0s 2ms/step - loss: 6.6385\n",
      "Epoch 6/100\n",
      "1/1 [==============================] - 0s 8ms/step - loss: 4.7471\n",
      "Epoch 7/100\n",
      "1/1 [==============================] - 0s 8ms/step - loss: 3.4010\n",
      "Epoch 8/100\n",
      "1/1 [==============================] - 0s 13ms/step - loss: 2.4428\n",
      "Epoch 9/100\n",
      "1/1 [==============================] - 0s 8ms/step - loss: 1.7606\n",
      "Epoch 10/100\n",
      "1/1 [==============================] - 0s 16ms/step - loss: 1.2746\n",
      "Epoch 11/100\n",
      "1/1 [==============================] - 0s 11ms/step - loss: 0.9284\n",
      "Epoch 12/100\n",
      "1/1 [==============================] - 0s 9ms/step - loss: 0.6815\n",
      "Epoch 13/100\n",
      "1/1 [==============================] - 0s 11ms/step - loss: 0.5054\n",
      "Epoch 14/100\n",
      "1/1 [==============================] - 0s 10ms/step - loss: 0.3795\n",
      "Epoch 15/100\n",
      "1/1 [==============================] - 0s 8ms/step - loss: 0.2894\n",
      "Epoch 16/100\n",
      "1/1 [==============================] - 0s 7ms/step - loss: 0.2248\n",
      "Epoch 17/100\n",
      "1/1 [==============================] - 0s 8ms/step - loss: 0.1784\n",
      "Epoch 18/100\n",
      "1/1 [==============================] - 0s 16ms/step - loss: 0.1449\n",
      "Epoch 19/100\n",
      "1/1 [==============================] - 0s 8ms/step - loss: 0.1205\n",
      "Epoch 20/100\n",
      "1/1 [==============================] - 0s 8ms/step - loss: 0.1027\n",
      "Epoch 21/100\n",
      "1/1 [==============================] - 0s 8ms/step - loss: 0.0897\n",
      "Epoch 22/100\n",
      "1/1 [==============================] - 0s 8ms/step - loss: 0.0799\n",
      "Epoch 23/100\n",
      "1/1 [==============================] - 0s 8ms/step - loss: 0.0725\n",
      "Epoch 24/100\n",
      "1/1 [==============================] - 0s 8ms/step - loss: 0.0669\n",
      "Epoch 25/100\n",
      "1/1 [==============================] - 0s 8ms/step - loss: 0.0624\n",
      "Epoch 26/100\n",
      "1/1 [==============================] - 0s 8ms/step - loss: 0.0589\n",
      "Epoch 27/100\n",
      "1/1 [==============================] - 0s 8ms/step - loss: 0.0560\n",
      "Epoch 28/100\n",
      "1/1 [==============================] - 0s 8ms/step - loss: 0.0535\n",
      "Epoch 29/100\n",
      "1/1 [==============================] - 0s 8ms/step - loss: 0.0514\n",
      "Epoch 30/100\n",
      "1/1 [==============================] - 0s 17ms/step - loss: 0.0496\n",
      "Epoch 31/100\n",
      "1/1 [==============================] - 0s 10ms/step - loss: 0.0479\n",
      "Epoch 32/100\n",
      "1/1 [==============================] - 0s 6ms/step - loss: 0.0464\n",
      "Epoch 33/100\n",
      "1/1 [==============================] - 0s 6ms/step - loss: 0.0450\n",
      "Epoch 34/100\n",
      "1/1 [==============================] - 0s 8ms/step - loss: 0.0436\n",
      "Epoch 35/100\n",
      "1/1 [==============================] - 0s 11ms/step - loss: 0.0424\n",
      "Epoch 36/100\n",
      "1/1 [==============================] - 0s 8ms/step - loss: 0.0412\n",
      "Epoch 37/100\n",
      "1/1 [==============================] - 0s 12ms/step - loss: 0.0401\n",
      "Epoch 38/100\n",
      "1/1 [==============================] - 0s 8ms/step - loss: 0.0390\n",
      "Epoch 39/100\n",
      "1/1 [==============================] - 0s 12ms/step - loss: 0.0379\n",
      "Epoch 40/100\n",
      "1/1 [==============================] - 0s 0s/step - loss: 0.0369\n",
      "Epoch 41/100\n",
      "1/1 [==============================] - 0s 9ms/step - loss: 0.0359\n",
      "Epoch 42/100\n",
      "1/1 [==============================] - 0s 9ms/step - loss: 0.0349\n",
      "Epoch 43/100\n",
      "1/1 [==============================] - 0s 0s/step - loss: 0.0340\n",
      "Epoch 44/100\n",
      "1/1 [==============================] - 0s 8ms/step - loss: 0.0331\n",
      "Epoch 45/100\n",
      "1/1 [==============================] - 0s 9ms/step - loss: 0.0322\n",
      "Epoch 46/100\n",
      "1/1 [==============================] - 0s 0s/step - loss: 0.0313\n",
      "Epoch 47/100\n",
      "1/1 [==============================] - 0s 8ms/step - loss: 0.0305\n",
      "Epoch 48/100\n",
      "1/1 [==============================] - 0s 7ms/step - loss: 0.0297\n",
      "Epoch 49/100\n",
      "1/1 [==============================] - 0s 8ms/step - loss: 0.0289\n",
      "Epoch 50/100\n",
      "1/1 [==============================] - 0s 8ms/step - loss: 0.0281\n",
      "Epoch 51/100\n",
      "1/1 [==============================] - 0s 9ms/step - loss: 0.0274\n",
      "Epoch 52/100\n",
      "1/1 [==============================] - 0s 8ms/step - loss: 0.0266\n",
      "Epoch 53/100\n",
      "1/1 [==============================] - 0s 9ms/step - loss: 0.0259\n",
      "Epoch 54/100\n",
      "1/1 [==============================] - 0s 8ms/step - loss: 0.0252\n",
      "Epoch 55/100\n",
      "1/1 [==============================] - 0s 8ms/step - loss: 0.0246\n",
      "Epoch 56/100\n",
      "1/1 [==============================] - 0s 8ms/step - loss: 0.0239\n",
      "Epoch 57/100\n",
      "1/1 [==============================] - 0s 8ms/step - loss: 0.0233\n",
      "Epoch 58/100\n",
      "1/1 [==============================] - 0s 8ms/step - loss: 0.0227\n",
      "Epoch 59/100\n",
      "1/1 [==============================] - 0s 8ms/step - loss: 0.0221\n",
      "Epoch 60/100\n",
      "1/1 [==============================] - 0s 2ms/step - loss: 0.0215\n",
      "Epoch 61/100\n",
      "1/1 [==============================] - 0s 8ms/step - loss: 0.0209\n",
      "Epoch 62/100\n",
      "1/1 [==============================] - 0s 8ms/step - loss: 0.0203\n",
      "Epoch 63/100\n",
      "1/1 [==============================] - 0s 8ms/step - loss: 0.0198\n",
      "Epoch 64/100\n",
      "1/1 [==============================] - 0s 8ms/step - loss: 0.0193\n",
      "Epoch 65/100\n",
      "1/1 [==============================] - 0s 8ms/step - loss: 0.0188\n",
      "Epoch 66/100\n",
      "1/1 [==============================] - 0s 8ms/step - loss: 0.0183\n",
      "Epoch 67/100\n",
      "1/1 [==============================] - 0s 8ms/step - loss: 0.0178\n",
      "Epoch 68/100\n",
      "1/1 [==============================] - 0s 8ms/step - loss: 0.0173\n",
      "Epoch 69/100\n",
      "1/1 [==============================] - 0s 8ms/step - loss: 0.0168\n",
      "Epoch 70/100\n",
      "1/1 [==============================] - 0s 8ms/step - loss: 0.0164\n",
      "Epoch 71/100\n",
      "1/1 [==============================] - 0s 8ms/step - loss: 0.0159\n",
      "Epoch 72/100\n",
      "1/1 [==============================] - 0s 8ms/step - loss: 0.0155\n",
      "Epoch 73/100\n",
      "1/1 [==============================] - 0s 8ms/step - loss: 0.0151\n",
      "Epoch 74/100\n",
      "1/1 [==============================] - 0s 8ms/step - loss: 0.0147\n",
      "Epoch 75/100\n",
      "1/1 [==============================] - 0s 6ms/step - loss: 0.0143\n",
      "Epoch 76/100\n",
      "1/1 [==============================] - 0s 8ms/step - loss: 0.0139\n",
      "Epoch 77/100\n",
      "1/1 [==============================] - 0s 13ms/step - loss: 0.0136\n",
      "Epoch 78/100\n",
      "1/1 [==============================] - 0s 10ms/step - loss: 0.0132\n",
      "Epoch 79/100\n",
      "1/1 [==============================] - 0s 8ms/step - loss: 0.0128\n",
      "Epoch 80/100\n",
      "1/1 [==============================] - 0s 8ms/step - loss: 0.0125\n",
      "Epoch 81/100\n",
      "1/1 [==============================] - 0s 8ms/step - loss: 0.0122\n",
      "Epoch 82/100\n",
      "1/1 [==============================] - 0s 0s/step - loss: 0.0118\n",
      "Epoch 83/100\n",
      "1/1 [==============================] - 0s 8ms/step - loss: 0.0115\n",
      "Epoch 84/100\n",
      "1/1 [==============================] - 0s 8ms/step - loss: 0.0112\n",
      "Epoch 85/100\n",
      "1/1 [==============================] - 0s 8ms/step - loss: 0.0109\n",
      "Epoch 86/100\n",
      "1/1 [==============================] - 0s 8ms/step - loss: 0.0106\n",
      "Epoch 87/100\n",
      "1/1 [==============================] - 0s 8ms/step - loss: 0.0104\n",
      "Epoch 88/100\n",
      "1/1 [==============================] - 0s 8ms/step - loss: 0.0101\n",
      "Epoch 89/100\n",
      "1/1 [==============================] - 0s 8ms/step - loss: 0.0098\n",
      "Epoch 90/100\n",
      "1/1 [==============================] - 0s 8ms/step - loss: 0.0095\n",
      "Epoch 91/100\n",
      "1/1 [==============================] - 0s 10ms/step - loss: 0.0093\n",
      "Epoch 92/100\n",
      "1/1 [==============================] - 0s 8ms/step - loss: 0.0090\n",
      "Epoch 93/100\n",
      "1/1 [==============================] - 0s 8ms/step - loss: 0.0088\n",
      "Epoch 94/100\n",
      "1/1 [==============================] - 0s 8ms/step - loss: 0.0086\n",
      "Epoch 95/100\n",
      "1/1 [==============================] - 0s 1ms/step - loss: 0.0083\n",
      "Epoch 96/100\n",
      "1/1 [==============================] - 0s 8ms/step - loss: 0.0081\n",
      "Epoch 97/100\n",
      "1/1 [==============================] - 0s 8ms/step - loss: 0.0079\n",
      "Epoch 98/100\n",
      "1/1 [==============================] - 0s 14ms/step - loss: 0.0077\n",
      "Epoch 99/100\n",
      "1/1 [==============================] - 0s 9ms/step - loss: 0.0075\n",
      "Epoch 100/100\n",
      "1/1 [==============================] - 0s 4ms/step - loss: 0.0073\n"
     ]
    },
    {
     "data": {
      "text/plain": [
       "<keras.callbacks.History at 0x20665907a90>"
      ]
     },
     "execution_count": 3,
     "metadata": {},
     "output_type": "execute_result"
    }
   ],
   "source": [
    "# synthesize some training data \n",
    "xs = np.array([-2.0, -1.0, 0.0, 1.0, 2.0, 3.0, 4.0, 5.0])\n",
    "ys = np.array([-4.0, -2.0, 0.0, 2.0, 4.0, 6.0, 8.0, 10.0])\n",
    "\n",
    "# train the model for 100 epochs of sgd\n",
    "model.fit(xs, ys, epochs=100)"
   ]
  },
  {
   "cell_type": "code",
   "execution_count": 4,
   "metadata": {},
   "outputs": [
    {
     "name": "stdout",
     "output_type": "stream",
     "text": [
      "1/1 [==============================] - 0s 117ms/step\n"
     ]
    },
    {
     "data": {
      "text/plain": [
       "array([[19.87981]], dtype=float32)"
      ]
     },
     "execution_count": 4,
     "metadata": {},
     "output_type": "execute_result"
    }
   ],
   "source": [
    "# make a prediction\n",
    "model.predict([10.0])"
   ]
  },
  {
   "attachments": {},
   "cell_type": "markdown",
   "metadata": {},
   "source": [
    "***Ex2:*** Now, build a model with two dense layers for a multi-class classification task. The first layer is the hidden layer with 128 nuerons and the second layer is the output layer with number of neurons equal to the number of possible output classes. Each of these neurons outputs the probability for one of the corresponding classes.  "
   ]
  },
  {
   "cell_type": "code",
   "execution_count": 2,
   "metadata": {},
   "outputs": [],
   "source": [
    "'''\n",
    " Load fasion MNIST dataset. The input features are 28x28 pixel grayscale images of clothing items and the outout labels consist of 10 possible classes (ten different clothing items) \n",
    "Class Label Description:\n",
    "0\tT-shirt/top\n",
    "1\tTrouser\n",
    "2\tPullover\n",
    "3\tDress\n",
    "4\tCoat\n",
    "5\tSandal\n",
    "6\tShirt\n",
    "7\tSneaker\n",
    "8\tBag\n",
    "9\tAnkle boot) \n",
    "'''\n",
    "fmnist = tf.keras.datasets.fashion_mnist\n",
    "(training_images, training_labels), (test_images, test_labels) = fmnist.load_data()"
   ]
  },
  {
   "cell_type": "code",
   "execution_count": 3,
   "metadata": {},
   "outputs": [
    {
     "name": "stdout",
     "output_type": "stream",
     "text": [
      "training images shape = (60000, 28, 28)\n",
      "training labels shape = (60000,)\n",
      "test images shape = (10000, 28, 28)\n",
      "test labels shape = (10000,)\n"
     ]
    }
   ],
   "source": [
    "# check the shapes of the data arrays (there are 600000 training images and 10000 test images)\n",
    "print(f\"training images shape = {training_images.shape}\")\n",
    "print(f\"training labels shape = {training_labels.shape}\")\n",
    "print(f\"test images shape = {test_images.shape}\")\n",
    "print(f\"test labels shape = {test_labels.shape}\")\n",
    "\n",
    "# normalize the pixel values\n",
    "training_images = training_images / 255.0\n",
    "test_images = test_images / 255.0"
   ]
  },
  {
   "cell_type": "code",
   "execution_count": 4,
   "metadata": {},
   "outputs": [
    {
     "data": {
      "image/png": "[encoded data removed]",
      "text/plain": [
       "<Figure size 700x700 with 9 Axes>"
      ]
     },
     "metadata": {},
     "output_type": "display_data"
    }
   ],
   "source": [
    "import matplotlib.pyplot as plt\n",
    "\n",
    "label = {0:\"top\", 1:\"trouser\", 2:\"pullover\", 3:\"dress\", 4:\"coat\", 5:\"sandal\", 6:\"shirt\", 7:\"sneaker\", 8:\"bag\", 9:\"boot\"}\n",
    "\n",
    "# visualize some of the training images\n",
    "n=3\n",
    "idx = np.random.choice(np.arange(6000), size=(n,n), replace=False)\n",
    "plt.figure(figsize=(7,7))\n",
    "\n",
    "for i in range(n):\n",
    "    for j in range(n):\n",
    "        plt.subplot(n,n, 1+i * n + j)\n",
    "        plt.imshow(training_images[idx[i,j]], cmap='gray')\n",
    "        plt.title(label[training_labels[idx[i,j]]])\n",
    "\n",
    "plt.subplots_adjust(left=0.1,\n",
    "                    bottom=0.1,\n",
    "                    right=0.9,\n",
    "                    top=0.9,\n",
    "                    wspace=0.5,\n",
    "                    hspace=0.1)        "
   ]
  },
  {
   "cell_type": "code",
   "execution_count": 39,
   "metadata": {},
   "outputs": [
    {
     "name": "stdout",
     "output_type": "stream",
     "text": [
      "Inputs: [ 1.  5.  3. -2.]\n",
      "output of relu function: [1. 5. 3. 0.]\n",
      "output of softmax function: [1.58637008e-02 8.66128717e-01 1.17217775e-01 7.89807157e-04], sum = 0.9999999999999999\n"
     ]
    }
   ],
   "source": [
    "##### Quick test of the relu and softmax activation functions\n",
    "\n",
    "# create some sample data\n",
    "xs = np.array([1.0, 5.0, 3.0, -2.0])\n",
    "inputs = tf.convert_to_tensor(xs)\n",
    "print(f\"Inputs: {inputs}\")\n",
    "\n",
    "# compute relu output\n",
    "relu_output = tf.nn.relu(inputs)\n",
    "print(f\"output of relu function: {relu_output.numpy()}\")\n",
    "\n",
    "# compute softmax output\n",
    "softmax_output = tf.nn.softmax(inputs)\n",
    "print(f\"output of softmax function: {softmax_output.numpy()}, sum = {tf.reduce_sum(softmax_output)}\")\n"
   ]
  },
  {
   "cell_type": "code",
   "execution_count": 40,
   "metadata": {},
   "outputs": [],
   "source": [
    "# create the model\n",
    "model = keras.models.Sequential([keras.layers.Flatten(), # flatten layer for reshaping (28,28) image into (28*28,1)\n",
    "                                 keras.layers.Dense(units=128, activation=tf.nn.relu), # hidden layer with 128 neuron and relu activation\n",
    "                                 keras.layers.Dense(units=10, activation=tf.nn.softmax)]) # output layer with 10 neurons and softmax activation\n",
    "\n"
   ]
  },
  {
   "cell_type": "code",
   "execution_count": 44,
   "metadata": {},
   "outputs": [
    {
     "name": "stdout",
     "output_type": "stream",
     "text": [
      "Epoch 1/8\n",
      "1875/1875 [==============================] - 7s 3ms/step - loss: 0.4785 - accuracy: 0.8324\n",
      "Epoch 2/8\n",
      "1875/1875 [==============================] - 6s 3ms/step - loss: 0.4631 - accuracy: 0.8382\n",
      "Epoch 3/8\n",
      "1875/1875 [==============================] - 9s 5ms/step - loss: 0.4506 - accuracy: 0.8422\n",
      "Epoch 4/8\n",
      "1875/1875 [==============================] - 8s 4ms/step - loss: 0.4410 - accuracy: 0.8455\n",
      "Epoch 5/8\n",
      "1875/1875 [==============================] - 8s 4ms/step - loss: 0.4324 - accuracy: 0.8486\n",
      "Epoch 6/8\n",
      "1875/1875 [==============================] - 6s 3ms/step - loss: 0.4255 - accuracy: 0.8503\n",
      "Epoch 7/8\n",
      "1875/1875 [==============================] - 6s 3ms/step - loss: 0.4190 - accuracy: 0.8527\n",
      "Epoch 8/8\n",
      "1875/1875 [==============================] - 7s 4ms/step - loss: 0.4135 - accuracy: 0.8547\n"
     ]
    },
    {
     "data": {
      "text/plain": [
       "<keras.callbacks.History at 0x20832c9b580>"
      ]
     },
     "execution_count": 44,
     "metadata": {},
     "output_type": "execute_result"
    }
   ],
   "source": [
    "# compile and train the model (also output the accuracy metric)\n",
    "model.compile(optimizer='adam', loss='sparse_categorical_crossentropy', metrics=['accuracy'])\n",
    "\n",
    "model.fit(training_images, training_labels, epochs=8)"
   ]
  },
  {
   "cell_type": "code",
   "execution_count": 45,
   "metadata": {},
   "outputs": [
    {
     "name": "stdout",
     "output_type": "stream",
     "text": [
      "313/313 [==============================] - 1s 4ms/step - loss: 0.4485 - accuracy: 0.8386\n"
     ]
    },
    {
     "data": {
      "text/plain": [
       "[0.4484837055206299, 0.8385999798774719]"
      ]
     },
     "execution_count": 45,
     "metadata": {},
     "output_type": "execute_result"
    }
   ],
   "source": [
    "# evaluate the model using the unseen test data\n",
    "model.evaluate(test_images, test_labels)"
   ]
  },
  {
   "cell_type": "code",
   "execution_count": 46,
   "metadata": {},
   "outputs": [
    {
     "name": "stdout",
     "output_type": "stream",
     "text": [
      "313/313 [==============================] - 1s 2ms/step\n"
     ]
    }
   ],
   "source": [
    "# compute predictions on test images\n",
    "test_preds = model.predict(test_images)"
   ]
  },
  {
   "cell_type": "code",
   "execution_count": 50,
   "metadata": {},
   "outputs": [
    {
     "name": "stdout",
     "output_type": "stream",
     "text": [
      "Test Image#0\n",
      "Predicted probabilities: [2.7123244e-07 2.6472518e-08 5.1398547e-06 2.1003789e-06 9.6306312e-06\n",
      " 1.2234056e-01 7.5274725e-06 2.9357105e-01 2.8832152e-03 5.8118045e-01]\n",
      "Actual Label: 9\n",
      "\n",
      "Test Image#1\n",
      "Predicted probabilities: [3.2569407e-04 9.4436864e-06 9.2168730e-01 1.7305880e-04 1.4649331e-02\n",
      " 6.3445926e-10 6.2965654e-02 4.0184713e-14 1.8954424e-04 3.2131832e-12]\n",
      "Actual Label: 2\n",
      "\n",
      "Test Image#2\n",
      "Predicted probabilities: [8.55437793e-06 9.99726236e-01 8.39710083e-06 1.49754560e-04\n",
      " 1.06929874e-04 2.33447376e-12 8.65920882e-08 2.49030112e-08\n",
      " 1.67020726e-08 2.11951116e-11]\n",
      "Actual Label: 1\n",
      "\n",
      "Test Image#3\n",
      "Predicted probabilities: [1.0997364e-06 9.9952507e-01 6.4548117e-06 4.1527930e-04 5.2119027e-05\n",
      " 9.5335941e-11 3.8148421e-08 2.5229189e-08 5.2825997e-09 6.1343980e-10]\n",
      "Actual Label: 1\n",
      "\n",
      "Test Image#4\n",
      "Predicted probabilities: [1.3542427e-01 8.8498573e-04 8.3543546e-02 2.4720443e-02 2.1021865e-02\n",
      " 5.6829699e-06 7.2836292e-01 3.1220271e-08 6.0357638e-03 4.6157714e-07]\n",
      "Actual Label: 6\n",
      "\n"
     ]
    }
   ],
   "source": [
    "# Note that the predicted probabilities are highest for the corresponding actual labels, indication that hthe model is able to generalise to unseen data \n",
    "for i in range(5):\n",
    "    print(f\"Test Image#{i}\")\n",
    "    print(f\"Predicted probabilities: {test_preds[i]}\")\n",
    "    print(f\"Actual Label: {test_labels[i]}\\n\")"
   ]
  },
  {
   "attachments": {},
   "cell_type": "markdown",
   "metadata": {},
   "source": [
    "Now, let's see what happens when we add an extra hidden layer and increase the number of neurons."
   ]
  },
  {
   "cell_type": "code",
   "execution_count": 5,
   "metadata": {},
   "outputs": [
    {
     "name": "stderr",
     "output_type": "stream",
     "text": [
      "2023-07-08 13:35:18.059633: I tensorflow/compiler/xla/stream_executor/cuda/cuda_gpu_executor.cc:982] could not open file to read NUMA node: /sys/bus/pci/devices/0000:01:00.0/numa_node\n",
      "Your kernel may have been built without NUMA support.\n",
      "2023-07-08 13:35:18.073399: I tensorflow/compiler/xla/stream_executor/cuda/cuda_gpu_executor.cc:982] could not open file to read NUMA node: /sys/bus/pci/devices/0000:01:00.0/numa_node\n",
      "Your kernel may have been built without NUMA support.\n",
      "2023-07-08 13:35:18.073435: I tensorflow/compiler/xla/stream_executor/cuda/cuda_gpu_executor.cc:982] could not open file to read NUMA node: /sys/bus/pci/devices/0000:01:00.0/numa_node\n",
      "Your kernel may have been built without NUMA support.\n",
      "2023-07-08 13:35:18.076193: I tensorflow/compiler/xla/stream_executor/cuda/cuda_gpu_executor.cc:982] could not open file to read NUMA node: /sys/bus/pci/devices/0000:01:00.0/numa_node\n",
      "Your kernel may have been built without NUMA support.\n",
      "2023-07-08 13:35:18.076225: I tensorflow/compiler/xla/stream_executor/cuda/cuda_gpu_executor.cc:982] could not open file to read NUMA node: /sys/bus/pci/devices/0000:01:00.0/numa_node\n",
      "Your kernel may have been built without NUMA support.\n",
      "2023-07-08 13:35:18.076238: I tensorflow/compiler/xla/stream_executor/cuda/cuda_gpu_executor.cc:982] could not open file to read NUMA node: /sys/bus/pci/devices/0000:01:00.0/numa_node\n",
      "Your kernel may have been built without NUMA support.\n",
      "2023-07-08 13:35:18.616769: I tensorflow/compiler/xla/stream_executor/cuda/cuda_gpu_executor.cc:982] could not open file to read NUMA node: /sys/bus/pci/devices/0000:01:00.0/numa_node\n",
      "Your kernel may have been built without NUMA support.\n",
      "2023-07-08 13:35:18.616819: I tensorflow/compiler/xla/stream_executor/cuda/cuda_gpu_executor.cc:982] could not open file to read NUMA node: /sys/bus/pci/devices/0000:01:00.0/numa_node\n",
      "Your kernel may have been built without NUMA support.\n",
      "2023-07-08 13:35:18.616824: I tensorflow/core/common_runtime/gpu/gpu_device.cc:1722] Could not identify NUMA node of platform GPU id 0, defaulting to 0.  Your kernel may not have been built with NUMA support.\n",
      "2023-07-08 13:35:18.616839: I tensorflow/compiler/xla/stream_executor/cuda/cuda_gpu_executor.cc:982] could not open file to read NUMA node: /sys/bus/pci/devices/0000:01:00.0/numa_node\n",
      "Your kernel may have been built without NUMA support.\n",
      "2023-07-08 13:35:18.616860: I tensorflow/core/common_runtime/gpu/gpu_device.cc:1635] Created device /job:localhost/replica:0/task:0/device:GPU:0 with 5318 MB memory:  -> device: 0, name: NVIDIA GeForce RTX 4070 Laptop GPU, pci bus id: 0000:01:00.0, compute capability: 8.9\n"
     ]
    },
    {
     "name": "stdout",
     "output_type": "stream",
     "text": [
      "Epoch 1/30\n"
     ]
    },
    {
     "name": "stderr",
     "output_type": "stream",
     "text": [
      "2023-07-08 13:35:20.109070: I tensorflow/compiler/xla/stream_executor/cuda/cuda_blas.cc:637] TensorFloat-32 will be used for the matrix multiplication. This will only be logged once.\n",
      "2023-07-08 13:35:20.491329: I tensorflow/compiler/xla/service/service.cc:169] XLA service 0x7faed90593f0 initialized for platform CUDA (this does not guarantee that XLA will be used). Devices:\n",
      "2023-07-08 13:35:20.491359: I tensorflow/compiler/xla/service/service.cc:177]   StreamExecutor device (0): NVIDIA GeForce RTX 4070 Laptop GPU, Compute Capability 8.9\n",
      "2023-07-08 13:35:20.494310: I tensorflow/compiler/mlir/tensorflow/utils/dump_mlir_util.cc:269] disabling MLIR crash reproducer, set env var `MLIR_CRASH_REPRODUCER_DIRECTORY` to enable.\n",
      "2023-07-08 13:35:20.608781: I tensorflow/compiler/xla/stream_executor/cuda/cuda_dnn.cc:424] Loaded cuDNN version 8600\n",
      "2023-07-08 13:35:20.679120: I ./tensorflow/compiler/jit/device_compiler.h:180] Compiled cluster using XLA!  This line is logged at most once for the lifetime of the process.\n"
     ]
    },
    {
     "name": "stdout",
     "output_type": "stream",
     "text": [
      "1875/1875 [==============================] - 6s 2ms/step - loss: 0.4804 - accuracy: 0.8285 - val_loss: 0.4297 - val_accuracy: 0.8365\n",
      "Epoch 2/30\n",
      "1875/1875 [==============================] - 4s 2ms/step - loss: 0.3611 - accuracy: 0.8662 - val_loss: 0.4181 - val_accuracy: 0.8419\n",
      "Epoch 3/30\n",
      "1875/1875 [==============================] - 4s 2ms/step - loss: 0.3237 - accuracy: 0.8797 - val_loss: 0.3546 - val_accuracy: 0.8682\n",
      "Epoch 4/30\n",
      "1875/1875 [==============================] - 4s 2ms/step - loss: 0.3008 - accuracy: 0.8868 - val_loss: 0.3795 - val_accuracy: 0.8600\n",
      "Epoch 5/30\n",
      "1875/1875 [==============================] - 4s 2ms/step - loss: 0.2832 - accuracy: 0.8931 - val_loss: 0.3347 - val_accuracy: 0.8789\n",
      "Epoch 6/30\n",
      "1875/1875 [==============================] - 5s 3ms/step - loss: 0.2693 - accuracy: 0.8992 - val_loss: 0.3378 - val_accuracy: 0.8803\n",
      "Epoch 7/30\n",
      "1875/1875 [==============================] - 4s 2ms/step - loss: 0.2537 - accuracy: 0.9035 - val_loss: 0.3420 - val_accuracy: 0.8840\n",
      "Epoch 8/30\n",
      "1875/1875 [==============================] - 4s 2ms/step - loss: 0.2446 - accuracy: 0.9062 - val_loss: 0.3453 - val_accuracy: 0.8781\n",
      "Epoch 9/30\n",
      "1875/1875 [==============================] - 4s 2ms/step - loss: 0.2345 - accuracy: 0.9108 - val_loss: 0.3219 - val_accuracy: 0.8892\n",
      "Epoch 10/30\n",
      "1875/1875 [==============================] - 4s 2ms/step - loss: 0.2231 - accuracy: 0.9157 - val_loss: 0.3397 - val_accuracy: 0.8869\n",
      "Epoch 11/30\n",
      "1875/1875 [==============================] - 4s 2ms/step - loss: 0.2139 - accuracy: 0.9181 - val_loss: 0.3665 - val_accuracy: 0.8817\n",
      "Epoch 12/30\n",
      "1875/1875 [==============================] - 4s 2ms/step - loss: 0.2062 - accuracy: 0.9214 - val_loss: 0.3472 - val_accuracy: 0.8879\n",
      "Epoch 13/30\n",
      "1875/1875 [==============================] - 4s 2ms/step - loss: 0.1999 - accuracy: 0.9246 - val_loss: 0.3404 - val_accuracy: 0.8969\n",
      "Epoch 14/30\n",
      "1875/1875 [==============================] - 4s 2ms/step - loss: 0.1929 - accuracy: 0.9271 - val_loss: 0.3496 - val_accuracy: 0.8920\n",
      "Epoch 15/30\n",
      "1875/1875 [==============================] - 4s 2ms/step - loss: 0.1893 - accuracy: 0.9266 - val_loss: 0.3354 - val_accuracy: 0.8928\n",
      "Epoch 16/30\n",
      "1875/1875 [==============================] - 4s 2ms/step - loss: 0.1790 - accuracy: 0.9314 - val_loss: 0.3685 - val_accuracy: 0.8960\n",
      "Epoch 17/30\n",
      "1875/1875 [==============================] - 4s 2ms/step - loss: 0.1743 - accuracy: 0.9341 - val_loss: 0.3756 - val_accuracy: 0.8920\n",
      "Epoch 18/30\n",
      "1875/1875 [==============================] - 4s 2ms/step - loss: 0.1686 - accuracy: 0.9363 - val_loss: 0.3674 - val_accuracy: 0.8862\n",
      "Epoch 19/30\n",
      "1875/1875 [==============================] - 4s 2ms/step - loss: 0.1636 - accuracy: 0.9367 - val_loss: 0.3879 - val_accuracy: 0.8889\n",
      "Epoch 20/30\n",
      "1875/1875 [==============================] - 5s 2ms/step - loss: 0.1604 - accuracy: 0.9393 - val_loss: 0.3871 - val_accuracy: 0.8923\n",
      "Epoch 21/30\n",
      "1875/1875 [==============================] - 4s 2ms/step - loss: 0.1542 - accuracy: 0.9403 - val_loss: 0.4329 - val_accuracy: 0.8876\n",
      "Epoch 22/30\n",
      "1875/1875 [==============================] - 4s 2ms/step - loss: 0.1515 - accuracy: 0.9406 - val_loss: 0.4085 - val_accuracy: 0.8878\n",
      "Epoch 23/30\n",
      "1875/1875 [==============================] - 4s 2ms/step - loss: 0.1454 - accuracy: 0.9439 - val_loss: 0.4199 - val_accuracy: 0.8875\n",
      "Epoch 24/30\n",
      "1875/1875 [==============================] - 4s 2ms/step - loss: 0.1446 - accuracy: 0.9448 - val_loss: 0.4579 - val_accuracy: 0.8839\n",
      "Epoch 25/30\n",
      "1875/1875 [==============================] - 5s 2ms/step - loss: 0.1392 - accuracy: 0.9464 - val_loss: 0.4459 - val_accuracy: 0.8944\n",
      "Epoch 26/30\n",
      "1875/1875 [==============================] - 5s 2ms/step - loss: 0.1336 - accuracy: 0.9484 - val_loss: 0.4111 - val_accuracy: 0.8934\n",
      "Epoch 27/30\n",
      "1875/1875 [==============================] - 4s 2ms/step - loss: 0.1322 - accuracy: 0.9489 - val_loss: 0.4768 - val_accuracy: 0.8883\n",
      "Epoch 28/30\n",
      "1875/1875 [==============================] - 4s 2ms/step - loss: 0.1326 - accuracy: 0.9490 - val_loss: 0.4507 - val_accuracy: 0.8879\n",
      "Epoch 29/30\n",
      "1875/1875 [==============================] - 4s 2ms/step - loss: 0.1251 - accuracy: 0.9518 - val_loss: 0.4432 - val_accuracy: 0.8929\n",
      "Epoch 30/30\n",
      "1875/1875 [==============================] - 4s 2ms/step - loss: 0.1248 - accuracy: 0.9519 - val_loss: 0.4631 - val_accuracy: 0.8947\n",
      "313/313 [==============================] - 1s 2ms/step - loss: 0.4631 - accuracy: 0.8947\n",
      "Test accuracy: 0.8946999907493591\n"
     ]
    }
   ],
   "source": [
    "# create the model\n",
    "model = keras.models.Sequential([keras.layers.Flatten(),                                  # flatten layer for reshaping (28,28) image into (28*28,1)\n",
    "                                 keras.layers.Dense(units=256, activation=tf.nn.relu),    # first hidden layer with 256 neuron and relu activation\n",
    "                                 keras.layers.Dense(units=128, activation=tf.nn.relu),    # second hidden layer with 128 neuron and relu activation\n",
    "                                 keras.layers.Dense(units=10, activation=tf.nn.softmax)]) # output layer with 10 neurons and softmax activation\n",
    "\n",
    "# compile and train the model (also output the accuracy metric)\n",
    "model.compile(optimizer='adam', loss='sparse_categorical_crossentropy', metrics=['accuracy'])\n",
    "model.fit(training_images, training_labels, validation_data=(test_images, test_labels), epochs=30)\n",
    "\n",
    "# evaluate the model using the unseen test data\n",
    "loss, metrics = model.evaluate(test_images, test_labels)\n",
    "print(f\"Test accuracy: {metrics}\")"
   ]
  },
  {
   "attachments": {},
   "cell_type": "markdown",
   "metadata": {},
   "source": [
    "Let's now implement early stopping of training using callbacks"
   ]
  },
  {
   "cell_type": "code",
   "execution_count": 60,
   "metadata": {},
   "outputs": [
    {
     "name": "stdout",
     "output_type": "stream",
     "text": [
      "Epoch 1/20\n",
      "1875/1875 [==============================] - 3s 2ms/step - loss: 0.8890 - accuracy: 0.7010 - val_loss: 0.6202 - val_accuracy: 0.7736\n",
      "Epoch 2/20\n",
      "1846/1875 [============================>.] - ETA: 0s - loss: 0.5552 - accuracy: 0.7999 Validation accuracy above 0.8. Training stopped\n",
      "1875/1875 [==============================] - 3s 2ms/step - loss: 0.5543 - accuracy: 0.8004 - val_loss: 0.5405 - val_accuracy: 0.8034\n",
      "313/313 [==============================] - 0s 1ms/step - loss: 0.5405 - accuracy: 0.8034\n",
      "Test accuracy: 0.8033999800682068\n"
     ]
    }
   ],
   "source": [
    "# create a custom callback class that inbherits from keras Callback\n",
    "    \n",
    "'''\n",
    "    Call back class that implements early stopping\n",
    "'''\n",
    "class myCallback(keras.callbacks.Callback):\n",
    "    '''\n",
    "        halts training after reaching 0.8 accuracy\n",
    "    '''\n",
    "    def on_epoch_end(self, epoch, logs = {}):\n",
    "\n",
    "        # check the accuracy\n",
    "        if(logs['val_accuracy'] >= 0.8):\n",
    "            # stop training if validation accuracy exceeds threshold\n",
    "            print(\" Validation accuracy above 0.8. Training stopped\")\n",
    "            self.model.stop_training = True\n",
    "\n",
    "\n",
    "# instantiate a callback obkect\n",
    "callback = myCallback()\n",
    "\n",
    "\n",
    "# create the model\n",
    "model = keras.models.Sequential([keras.layers.Flatten(),                                  # flatten layer for reshaping (28,28) image into (28*28,1)\n",
    "                                 keras.layers.Dense(units=512, activation=tf.nn.relu),    # second hidden layer with 128 neuron and relu activation\n",
    "                                 keras.layers.Dense(units=10, activation=tf.nn.softmax)]) # output layer with 10 neurons and softmax activation\n",
    "\n",
    "# compile and train the model with the callback\n",
    "model.compile(optimizer='adam', loss='sparse_categorical_crossentropy', metrics=['accuracy'])\n",
    "model.fit(training_images, training_labels, validation_data=(test_images, test_labels), epochs=20, callbacks=[callback])\n",
    "\n",
    "# evaluate the model using the unseen test data\n",
    "loss, metrics = model.evaluate(test_images, test_labels)\n",
    "print(f\"Test accuracy: {metrics}\")\n"
   ]
  },
  {
   "cell_type": "code",
   "execution_count": null,
   "metadata": {},
   "outputs": [],
   "source": []
  }
 ],
 "metadata": {
  "kernelspec": {
   "display_name": "tf",
   "language": "python",
   "name": "python3"
  },
  "language_info": {
   "codemirror_mode": {
    "name": "ipython",
    "version": 3
   },
   "file_extension": ".py",
   "mimetype": "text/x-python",
   "name": "python",
   "nbconvert_exporter": "python",
   "pygments_lexer": "ipython3",
   "version": "3.9.17"
  },
  "orig_nbformat": 4
 },
 "nbformat": 4,
 "nbformat_minor": 2
}
